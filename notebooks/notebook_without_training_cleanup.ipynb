{
  "nbformat": 4,
  "nbformat_minor": 0,
  "metadata": {
    "colab": {
      "provenance": [],
      "machine_shape": "hm"
    },
    "kernelspec": {
      "name": "python3",
      "display_name": "Python 3"
    },
    "language_info": {
      "name": "python"
    }
  },
  "cells": [
    {
      "cell_type": "markdown",
      "source": [
        "## Importing Libraries"
      ],
      "metadata": {
        "id": "hMhOPhNGhgr7"
      }
    },
    {
      "cell_type": "code",
      "source": [
        "import re\n",
        "import nltk\n",
        "import pandas as pd\n",
        "import random\n",
        "import matplotlib.pyplot as plt\n",
        "import nltk\n",
        "import numpy as np\n",
        "import seaborn as sns\n",
        "import joblib\n",
        "\n",
        "\n",
        "from nltk.corpus import opinion_lexicon\n",
        "from nltk.tokenize import word_tokenize\n",
        "from google.colab import drive\n",
        "from nltk.corpus import stopwords\n",
        "from nltk.stem import PorterStemmer\n",
        "from nltk.tokenize import word_tokenize\n",
        "from wordcloud import WordCloud\n",
        "from collections import Counter\n",
        "from sklearn.svm import LinearSVC\n",
        "from sklearn.naive_bayes import BernoulliNB\n",
        "from sklearn.linear_model import LogisticRegression\n",
        "from wordcloud import WordCloud\n",
        "from sklearn.feature_extraction.text import TfidfVectorizer\n",
        "from sklearn.metrics import confusion_matrix, classification_report"
      ],
      "metadata": {
        "id": "MhID41WnkFEJ"
      },
      "execution_count": null,
      "outputs": []
    },
    {
      "cell_type": "code",
      "execution_count": null,
      "metadata": {
        "colab": {
          "base_uri": "https://localhost:8080/"
        },
        "id": "a6Z_rOgjIQ9e",
        "outputId": "833d25f6-bdcd-4c9e-b9cf-76bb7bb941b2"
      },
      "outputs": [
        {
          "output_type": "stream",
          "name": "stdout",
          "text": [
            "Mounted at /content/drive\n"
          ]
        }
      ],
      "source": [
        "drive.mount('/content/drive')"
      ]
    },
    {
      "cell_type": "code",
      "source": [
        "cd drive/MyDrive/sentiment_data/trainingandtestdata"
      ],
      "metadata": {
        "colab": {
          "base_uri": "https://localhost:8080/"
        },
        "id": "wiKvaXMcIUIg",
        "outputId": "7db6ecee-7b99-44aa-b7b9-928fe6781ac7"
      },
      "execution_count": null,
      "outputs": [
        {
          "output_type": "stream",
          "name": "stdout",
          "text": [
            "/content/drive/MyDrive/sentiment_data/trainingandtestdata\n"
          ]
        }
      ]
    },
    {
      "cell_type": "code",
      "source": [
        "ls"
      ],
      "metadata": {
        "colab": {
          "base_uri": "https://localhost:8080/"
        },
        "id": "8G1UmkEEIVqt",
        "outputId": "92df1bd2-4021-432a-f537-6a443cd880ae"
      },
      "execution_count": null,
      "outputs": [
        {
          "output_type": "stream",
          "name": "stdout",
          "text": [
            "Final_notebook_sentiment_analysis_with_cleanup-2.ipynb\n",
            "Final_notebook_sentiment_analysis_with_common_neutral.ipynb\n",
            "final_test.ipynb\n",
            "\u001b[0m\u001b[01;34mglove_embeddings\u001b[0m/\n",
            "logistic_regression_model_with_cleaning.pkl\n",
            "logistic_regression_model_without_cleaning.pkl\n",
            "lr_model.pkl\n",
            "svc_model.pkl\n",
            "testdata.manual.2009.06.14.csv\n",
            "tfidf_vectorizer.pkl\n",
            "tfidf_vectorizer_with_cleaning.pkl\n",
            "tfidf_vectorizer_without_cleaning.pkl\n",
            "training.1600000.processed.noemoticon.csv\n"
          ]
        }
      ]
    },
    {
      "cell_type": "code",
      "source": [
        "# Load the training and test datasets\n",
        "train_file_path = 'training.1600000.processed.noemoticon.csv'\n",
        "test_file_path = 'testdata.manual.2009.06.14.csv'\n",
        "\n",
        "# The training dataset does not have a header\n",
        "train_columns = ['target', 'ids', 'date', 'flag', 'user', 'text']\n",
        "train_data = pd.read_csv(train_file_path, names=train_columns, encoding='latin1')\n",
        "\n",
        "# The test dataset does not have a header\n",
        "test_columns = ['target', 'ids', 'date', 'flag', 'user', 'text']\n",
        "test_data = pd.read_csv(test_file_path, names=test_columns, encoding='latin1')\n",
        "\n",
        "# Display the first few rows of each dataset\n",
        "print(\"Training Data:\")\n",
        "print(train_data.head())\n",
        "\n",
        "print(\"\\nTest Data:\")\n",
        "print(test_data.head())\n"
      ],
      "metadata": {
        "colab": {
          "base_uri": "https://localhost:8080/"
        },
        "id": "yItwcwQMIoJj",
        "outputId": "aeb732fb-eb85-4ed6-9303-2813d8da6d7e"
      },
      "execution_count": null,
      "outputs": [
        {
          "output_type": "stream",
          "name": "stdout",
          "text": [
            "Training Data:\n",
            "   target         ids                          date      flag  \\\n",
            "0       0  1467810369  Mon Apr 06 22:19:45 PDT 2009  NO_QUERY   \n",
            "1       0  1467810672  Mon Apr 06 22:19:49 PDT 2009  NO_QUERY   \n",
            "2       0  1467810917  Mon Apr 06 22:19:53 PDT 2009  NO_QUERY   \n",
            "3       0  1467811184  Mon Apr 06 22:19:57 PDT 2009  NO_QUERY   \n",
            "4       0  1467811193  Mon Apr 06 22:19:57 PDT 2009  NO_QUERY   \n",
            "\n",
            "              user                                               text  \n",
            "0  _TheSpecialOne_  @switchfoot http://twitpic.com/2y1zl - Awww, t...  \n",
            "1    scotthamilton  is upset that he can't update his Facebook by ...  \n",
            "2         mattycus  @Kenichan I dived many times for the ball. Man...  \n",
            "3          ElleCTF    my whole body feels itchy and like its on fire   \n",
            "4           Karoli  @nationwideclass no, it's not behaving at all....  \n",
            "\n",
            "Test Data:\n",
            "   target  ids                          date     flag      user  \\\n",
            "0       4    3  Mon May 11 03:17:40 UTC 2009  kindle2    tpryan   \n",
            "1       4    4  Mon May 11 03:18:03 UTC 2009  kindle2    vcu451   \n",
            "2       4    5  Mon May 11 03:18:54 UTC 2009  kindle2    chadfu   \n",
            "3       4    6  Mon May 11 03:19:04 UTC 2009  kindle2     SIX15   \n",
            "4       4    7  Mon May 11 03:21:41 UTC 2009  kindle2  yamarama   \n",
            "\n",
            "                                                text  \n",
            "0  @stellargirl I loooooooovvvvvveee my Kindle2. ...  \n",
            "1  Reading my kindle2...  Love it... Lee childs i...  \n",
            "2  Ok, first assesment of the #kindle2 ...it fuck...  \n",
            "3  @kenburbary You'll love your Kindle2. I've had...  \n",
            "4  @mikefish  Fair enough. But i have the Kindle2...  \n"
          ]
        }
      ]
    },
    {
      "cell_type": "markdown",
      "source": [
        "### Cleaning the text with links and stop words"
      ],
      "metadata": {
        "id": "7NIo3Zo0hoKo"
      }
    },
    {
      "cell_type": "code",
      "source": [
        "nltk.download('stopwords')\n",
        "nltk.download('punkt')\n",
        "\n",
        "stop_words = set(stopwords.words('english'))\n",
        "stemmer = PorterStemmer()\n",
        "\n",
        "def preprocess_text(text):\n",
        "    text = re.sub(r'http\\S+', '', text)\n",
        "    text = re.sub(r'@\\w+', '', text)\n",
        "    text = re.sub(r'[^A-Za-z\\s]', '', text)\n",
        "    text = text.lower()\n",
        "    words = word_tokenize(text)\n",
        "    words = [stemmer.stem(word) for word in words if word not in stop_words]\n",
        "    text = ' '.join(words)\n",
        "    return text\n"
      ],
      "metadata": {
        "colab": {
          "base_uri": "https://localhost:8080/"
        },
        "id": "NW_lQ90dY9rT",
        "outputId": "cb6f7bb6-d0b6-4a28-cd7c-f35d9bbd6999"
      },
      "execution_count": null,
      "outputs": [
        {
          "output_type": "stream",
          "name": "stderr",
          "text": [
            "[nltk_data] Downloading package stopwords to /root/nltk_data...\n",
            "[nltk_data]   Unzipping corpora/stopwords.zip.\n",
            "[nltk_data] Downloading package punkt to /root/nltk_data...\n",
            "[nltk_data]   Unzipping tokenizers/punkt.zip.\n"
          ]
        }
      ]
    },
    {
      "cell_type": "code",
      "source": [
        "train_data['text'] = train_data['text'].apply(preprocess_text)\n",
        "test_data['text'] = test_data['text'].apply(preprocess_text)"
      ],
      "metadata": {
        "id": "hJfr4RrWYwUF"
      },
      "execution_count": null,
      "outputs": []
    },
    {
      "cell_type": "markdown",
      "source": [
        "### Lets see the distribution in the training data"
      ],
      "metadata": {
        "id": "cBvm5oAOhAAe"
      }
    },
    {
      "cell_type": "code",
      "source": [
        "decode_map = {0: \"NEGATIVE\", 2: \"NEUTRAL\", 4: \"POSITIVE\"}\n",
        "def decode_sentiment(label):\n",
        "    return decode_map[int(label)]"
      ],
      "metadata": {
        "id": "oec8RijYk43j"
      },
      "execution_count": null,
      "outputs": []
    },
    {
      "cell_type": "code",
      "source": [
        "train_data.target = train_data.target.apply(lambda x: decode_sentiment(x))\n",
        "target_cnt = Counter(train_data.target)\n",
        "\n",
        "plt.figure(figsize=(16,8))\n",
        "plt.bar(target_cnt.keys(), target_cnt.values())\n",
        "plt.title(\"Dataset labels distribuition\")"
      ],
      "metadata": {
        "colab": {
          "base_uri": "https://localhost:8080/",
          "height": 716
        },
        "id": "jrntFiskhD8N",
        "outputId": "46562c12-e83f-4bb5-b31a-33afd4bcb0c6"
      },
      "execution_count": null,
      "outputs": [
        {
          "output_type": "execute_result",
          "data": {
            "text/plain": [
              "Text(0.5, 1.0, 'Dataset labels distribuition')"
            ]
          },
          "metadata": {},
          "execution_count": 9
        },
        {
          "output_type": "display_data",
          "data": {
            "text/plain": [
              "<Figure size 1600x800 with 1 Axes>"
            ],
            "image/png": "[encoded data removed]"
          },
          "metadata": {}
        }
      ]
    },
    {
      "cell_type": "markdown",
      "source": [
        "There are no neutral sentiment words present"
      ],
      "metadata": {
        "id": "IiHKkyxxnWcr"
      }
    },
    {
      "cell_type": "code",
      "source": [
        "random_idx_list = [random.randint(1,len(train_data.text)) for i in range(10)] # creates random indexes to choose from dataframe\n",
        "train_data.loc[random_idx_list,:].head(10)"
      ],
      "metadata": {
        "colab": {
          "base_uri": "https://localhost:8080/",
          "height": 359
        },
        "id": "1wbOU8lKlG2m",
        "outputId": "995c6d0c-0cea-49d2-baa0-2acbf04117e0"
      },
      "execution_count": null,
      "outputs": [
        {
          "output_type": "execute_result",
          "data": {
            "text/plain": [
              "           target         ids                          date      flag  \\\n",
              "115923   NEGATIVE  1827344234  Sun May 17 10:30:48 PDT 2009  NO_QUERY   \n",
              "670823   NEGATIVE  2246677619  Fri Jun 19 17:57:41 PDT 2009  NO_QUERY   \n",
              "64822    NEGATIVE  1688964611  Sun May 03 12:18:59 PDT 2009  NO_QUERY   \n",
              "686992   NEGATIVE  2251165180  Sat Jun 20 02:38:26 PDT 2009  NO_QUERY   \n",
              "39035    NEGATIVE  1573431827  Tue Apr 21 01:08:26 PDT 2009  NO_QUERY   \n",
              "1098825  POSITIVE  1970518775  Sat May 30 04:11:23 PDT 2009  NO_QUERY   \n",
              "474512   NEGATIVE  2177351770  Mon Jun 15 05:57:12 PDT 2009  NO_QUERY   \n",
              "1192641  POSITIVE  1984106309  Sun May 31 14:27:18 PDT 2009  NO_QUERY   \n",
              "102087   NEGATIVE  1794783481  Thu May 14 06:33:05 PDT 2009  NO_QUERY   \n",
              "941852   POSITIVE  1794394134  Thu May 14 05:42:41 PDT 2009  NO_QUERY   \n",
              "\n",
              "                    user                                               text  \n",
              "115923         gingercaz      realli hate new msn keep spam peopl im offlin  \n",
              "670823   figurescaitie13                                               shop  \n",
              "64822         Valentin00                  shut uppppp gon na come back soon  \n",
              "686992    TheMichelleJoh              noth tv tonight nonfoxtel wish foxtel  \n",
              "39035          notJeremy  want old want millionair back less person stor...  \n",
              "1098825           tmofee       reason chang caus node dont offer anymor gig  \n",
              "474512      puertorockin                                wonder weekend went  \n",
              "1192641  mstephaniejamil     go miley simpli ador song got nice mix countri  \n",
              "102087      PoynterPerve   hate feel cant work hope feel better soon babe x  \n",
              "941852       jonnabrooks              isol late day storm expect today love  "
            ],
            "text/html": [
              "\n",
              "  <div id=\"df-b2971127-acb5-45b9-90dd-81a90f6d7c5b\" class=\"colab-df-container\">\n",
              "    <div>\n",
              "<style scoped>\n",
              "    .dataframe tbody tr th:only-of-type {\n",
              "        vertical-align: middle;\n",
              "    }\n",
              "\n",
              "    .dataframe tbody tr th {\n",
              "        vertical-align: top;\n",
              "    }\n",
              "\n",
              "    .dataframe thead th {\n",
              "        text-align: right;\n",
              "    }\n",
              "</style>\n",
              "<table border=\"1\" class=\"dataframe\">\n",
              "  <thead>\n",
              "    <tr style=\"text-align: right;\">\n",
              "      <th></th>\n",
              "      <th>target</th>\n",
              "      <th>ids</th>\n",
              "      <th>date</th>\n",
              "      <th>flag</th>\n",
              "      <th>user</th>\n",
              "      <th>text</th>\n",
              "    </tr>\n",
              "  </thead>\n",
              "  <tbody>\n",
              "    <tr>\n",
              "      <th>115923</th>\n",
              "      <td>NEGATIVE</td>\n",
              "      <td>1827344234</td>\n",
              "      <td>Sun May 17 10:30:48 PDT 2009</td>\n",
              "      <td>NO_QUERY</td>\n",
              "      <td>gingercaz</td>\n",
              "      <td>realli hate new msn keep spam peopl im offlin</td>\n",
              "    </tr>\n",
              "    <tr>\n",
              "      <th>670823</th>\n",
              "      <td>NEGATIVE</td>\n",
              "      <td>2246677619</td>\n",
              "      <td>Fri Jun 19 17:57:41 PDT 2009</td>\n",
              "      <td>NO_QUERY</td>\n",
              "      <td>figurescaitie13</td>\n",
              "      <td>shop</td>\n",
              "    </tr>\n",
              "    <tr>\n",
              "      <th>64822</th>\n",
              "      <td>NEGATIVE</td>\n",
              "      <td>1688964611</td>\n",
              "      <td>Sun May 03 12:18:59 PDT 2009</td>\n",
              "      <td>NO_QUERY</td>\n",
              "      <td>Valentin00</td>\n",
              "      <td>shut uppppp gon na come back soon</td>\n",
              "    </tr>\n",
              "    <tr>\n",
              "      <th>686992</th>\n",
              "      <td>NEGATIVE</td>\n",
              "      <td>2251165180</td>\n",
              "      <td>Sat Jun 20 02:38:26 PDT 2009</td>\n",
              "      <td>NO_QUERY</td>\n",
              "      <td>TheMichelleJoh</td>\n",
              "      <td>noth tv tonight nonfoxtel wish foxtel</td>\n",
              "    </tr>\n",
              "    <tr>\n",
              "      <th>39035</th>\n",
              "      <td>NEGATIVE</td>\n",
              "      <td>1573431827</td>\n",
              "      <td>Tue Apr 21 01:08:26 PDT 2009</td>\n",
              "      <td>NO_QUERY</td>\n",
              "      <td>notJeremy</td>\n",
              "      <td>want old want millionair back less person stor...</td>\n",
              "    </tr>\n",
              "    <tr>\n",
              "      <th>1098825</th>\n",
              "      <td>POSITIVE</td>\n",
              "      <td>1970518775</td>\n",
              "      <td>Sat May 30 04:11:23 PDT 2009</td>\n",
              "      <td>NO_QUERY</td>\n",
              "      <td>tmofee</td>\n",
              "      <td>reason chang caus node dont offer anymor gig</td>\n",
              "    </tr>\n",
              "    <tr>\n",
              "      <th>474512</th>\n",
              "      <td>NEGATIVE</td>\n",
              "      <td>2177351770</td>\n",
              "      <td>Mon Jun 15 05:57:12 PDT 2009</td>\n",
              "      <td>NO_QUERY</td>\n",
              "      <td>puertorockin</td>\n",
              "      <td>wonder weekend went</td>\n",
              "    </tr>\n",
              "    <tr>\n",
              "      <th>1192641</th>\n",
              "      <td>POSITIVE</td>\n",
              "      <td>1984106309</td>\n",
              "      <td>Sun May 31 14:27:18 PDT 2009</td>\n",
              "      <td>NO_QUERY</td>\n",
              "      <td>mstephaniejamil</td>\n",
              "      <td>go miley simpli ador song got nice mix countri</td>\n",
              "    </tr>\n",
              "    <tr>\n",
              "      <th>102087</th>\n",
              "      <td>NEGATIVE</td>\n",
              "      <td>1794783481</td>\n",
              "      <td>Thu May 14 06:33:05 PDT 2009</td>\n",
              "      <td>NO_QUERY</td>\n",
              "      <td>PoynterPerve</td>\n",
              "      <td>hate feel cant work hope feel better soon babe x</td>\n",
              "    </tr>\n",
              "    <tr>\n",
              "      <th>941852</th>\n",
              "      <td>POSITIVE</td>\n",
              "      <td>1794394134</td>\n",
              "      <td>Thu May 14 05:42:41 PDT 2009</td>\n",
              "      <td>NO_QUERY</td>\n",
              "      <td>jonnabrooks</td>\n",
              "      <td>isol late day storm expect today love</td>\n",
              "    </tr>\n",
              "  </tbody>\n",
              "</table>\n",
              "</div>\n",
              "    <div class=\"colab-df-buttons\">\n",
              "\n",
              "  <div class=\"colab-df-container\">\n",
              "    <button class=\"colab-df-convert\" onclick=\"convertToInteractive('df-b2971127-acb5-45b9-90dd-81a90f6d7c5b')\"\n",
              "            title=\"Convert this dataframe to an interactive table.\"\n",
              "            style=\"display:none;\">\n",
              "\n",
              "  <svg xmlns=\"http://www.w3.org/2000/svg\" height=\"24px\" viewBox=\"0 -960 960 960\">\n",
              "    <path d=\"M120-120v-720h720v720H120Zm60-500h600v-160H180v160Zm220 220h160v-160H400v160Zm0 220h160v-160H400v160ZM180-400h160v-160H180v160Zm440 0h160v-160H620v160ZM180-180h160v-160H180v160Zm440 0h160v-160H620v160Z\"/>\n",
              "  </svg>\n",
              "    </button>\n",
              "\n",
              "  <style>\n",
              "    .colab-df-container {\n",
              "      display:flex;\n",
              "      gap: 12px;\n",
              "    }\n",
              "\n",
              "    .colab-df-convert {\n",
              "      background-color: #E8F0FE;\n",
              "      border: none;\n",
              "      border-radius: 50%;\n",
              "      cursor: pointer;\n",
              "      display: none;\n",
              "      fill: #1967D2;\n",
              "      height: 32px;\n",
              "      padding: 0 0 0 0;\n",
              "      width: 32px;\n",
              "    }\n",
              "\n",
              "    .colab-df-convert:hover {\n",
              "      background-color: #E2EBFA;\n",
              "      box-shadow: 0px 1px 2px rgba(60, 64, 67, 0.3), 0px 1px 3px 1px rgba(60, 64, 67, 0.15);\n",
              "      fill: #174EA6;\n",
              "    }\n",
              "\n",
              "    .colab-df-buttons div {\n",
              "      margin-bottom: 4px;\n",
              "    }\n",
              "\n",
              "    [theme=dark] .colab-df-convert {\n",
              "      background-color: #3B4455;\n",
              "      fill: #D2E3FC;\n",
              "    }\n",
              "\n",
              "    [theme=dark] .colab-df-convert:hover {\n",
              "      background-color: #434B5C;\n",
              "      box-shadow: 0px 1px 3px 1px rgba(0, 0, 0, 0.15);\n",
              "      filter: drop-shadow(0px 1px 2px rgba(0, 0, 0, 0.3));\n",
              "      fill: #FFFFFF;\n",
              "    }\n",
              "  </style>\n",
              "\n",
              "    <script>\n",
              "      const buttonEl =\n",
              "        document.querySelector('#df-b2971127-acb5-45b9-90dd-81a90f6d7c5b button.colab-df-convert');\n",
              "      buttonEl.style.display =\n",
              "        google.colab.kernel.accessAllowed ? 'block' : 'none';\n",
              "\n",
              "      async function convertToInteractive(key) {\n",
              "        const element = document.querySelector('#df-b2971127-acb5-45b9-90dd-81a90f6d7c5b');\n",
              "        const dataTable =\n",
              "          await google.colab.kernel.invokeFunction('convertToInteractive',\n",
              "                                                    [key], {});\n",
              "        if (!dataTable) return;\n",
              "\n",
              "        const docLinkHtml = 'Like what you see? Visit the ' +\n",
              "          '<a target=\"_blank\" href=https://colab.research.google.com/notebooks/data_table.ipynb>data table notebook</a>'\n",
              "          + ' to learn more about interactive tables.';\n",
              "        element.innerHTML = '';\n",
              "        dataTable['output_type'] = 'display_data';\n",
              "        await google.colab.output.renderOutput(dataTable, element);\n",
              "        const docLink = document.createElement('div');\n",
              "        docLink.innerHTML = docLinkHtml;\n",
              "        element.appendChild(docLink);\n",
              "      }\n",
              "    </script>\n",
              "  </div>\n",
              "\n",
              "\n",
              "<div id=\"df-2d0dd890-c828-4bda-9907-f2e93ebaab0e\">\n",
              "  <button class=\"colab-df-quickchart\" onclick=\"quickchart('df-2d0dd890-c828-4bda-9907-f2e93ebaab0e')\"\n",
              "            title=\"Suggest charts\"\n",
              "            style=\"display:none;\">\n",
              "\n",
              "<svg xmlns=\"http://www.w3.org/2000/svg\" height=\"24px\"viewBox=\"0 0 24 24\"\n",
              "     width=\"24px\">\n",
              "    <g>\n",
              "        <path d=\"M19 3H5c-1.1 0-2 .9-2 2v14c0 1.1.9 2 2 2h14c1.1 0 2-.9 2-2V5c0-1.1-.9-2-2-2zM9 17H7v-7h2v7zm4 0h-2V7h2v10zm4 0h-2v-4h2v4z\"/>\n",
              "    </g>\n",
              "</svg>\n",
              "  </button>\n",
              "\n",
              "<style>\n",
              "  .colab-df-quickchart {\n",
              "      --bg-color: #E8F0FE;\n",
              "      --fill-color: #1967D2;\n",
              "      --hover-bg-color: #E2EBFA;\n",
              "      --hover-fill-color: #174EA6;\n",
              "      --disabled-fill-color: #AAA;\n",
              "      --disabled-bg-color: #DDD;\n",
              "  }\n",
              "\n",
              "  [theme=dark] .colab-df-quickchart {\n",
              "      --bg-color: #3B4455;\n",
              "      --fill-color: #D2E3FC;\n",
              "      --hover-bg-color: #434B5C;\n",
              "      --hover-fill-color: #FFFFFF;\n",
              "      --disabled-bg-color: #3B4455;\n",
              "      --disabled-fill-color: #666;\n",
              "  }\n",
              "\n",
              "  .colab-df-quickchart {\n",
              "    background-color: var(--bg-color);\n",
              "    border: none;\n",
              "    border-radius: 50%;\n",
              "    cursor: pointer;\n",
              "    display: none;\n",
              "    fill: var(--fill-color);\n",
              "    height: 32px;\n",
              "    padding: 0;\n",
              "    width: 32px;\n",
              "  }\n",
              "\n",
              "  .colab-df-quickchart:hover {\n",
              "    background-color: var(--hover-bg-color);\n",
              "    box-shadow: 0 1px 2px rgba(60, 64, 67, 0.3), 0 1px 3px 1px rgba(60, 64, 67, 0.15);\n",
              "    fill: var(--button-hover-fill-color);\n",
              "  }\n",
              "\n",
              "  .colab-df-quickchart-complete:disabled,\n",
              "  .colab-df-quickchart-complete:disabled:hover {\n",
              "    background-color: var(--disabled-bg-color);\n",
              "    fill: var(--disabled-fill-color);\n",
              "    box-shadow: none;\n",
              "  }\n",
              "\n",
              "  .colab-df-spinner {\n",
              "    border: 2px solid var(--fill-color);\n",
              "    border-color: transparent;\n",
              "    border-bottom-color: var(--fill-color);\n",
              "    animation:\n",
              "      spin 1s steps(1) infinite;\n",
              "  }\n",
              "\n",
              "  @keyframes spin {\n",
              "    0% {\n",
              "      border-color: transparent;\n",
              "      border-bottom-color: var(--fill-color);\n",
              "      border-left-color: var(--fill-color);\n",
              "    }\n",
              "    20% {\n",
              "      border-color: transparent;\n",
              "      border-left-color: var(--fill-color);\n",
              "      border-top-color: var(--fill-color);\n",
              "    }\n",
              "    30% {\n",
              "      border-color: transparent;\n",
              "      border-left-color: var(--fill-color);\n",
              "      border-top-color: var(--fill-color);\n",
              "      border-right-color: var(--fill-color);\n",
              "    }\n",
              "    40% {\n",
              "      border-color: transparent;\n",
              "      border-right-color: var(--fill-color);\n",
              "      border-top-color: var(--fill-color);\n",
              "    }\n",
              "    60% {\n",
              "      border-color: transparent;\n",
              "      border-right-color: var(--fill-color);\n",
              "    }\n",
              "    80% {\n",
              "      border-color: transparent;\n",
              "      border-right-color: var(--fill-color);\n",
              "      border-bottom-color: var(--fill-color);\n",
              "    }\n",
              "    90% {\n",
              "      border-color: transparent;\n",
              "      border-bottom-color: var(--fill-color);\n",
              "    }\n",
              "  }\n",
              "</style>\n",
              "\n",
              "  <script>\n",
              "    async function quickchart(key) {\n",
              "      const quickchartButtonEl =\n",
              "        document.querySelector('#' + key + ' button');\n",
              "      quickchartButtonEl.disabled = true;  // To prevent multiple clicks.\n",
              "      quickchartButtonEl.classList.add('colab-df-spinner');\n",
              "      try {\n",
              "        const charts = await google.colab.kernel.invokeFunction(\n",
              "            'suggestCharts', [key], {});\n",
              "      } catch (error) {\n",
              "        console.error('Error during call to suggestCharts:', error);\n",
              "      }\n",
              "      quickchartButtonEl.classList.remove('colab-df-spinner');\n",
              "      quickchartButtonEl.classList.add('colab-df-quickchart-complete');\n",
              "    }\n",
              "    (() => {\n",
              "      let quickchartButtonEl =\n",
              "        document.querySelector('#df-2d0dd890-c828-4bda-9907-f2e93ebaab0e button');\n",
              "      quickchartButtonEl.style.display =\n",
              "        google.colab.kernel.accessAllowed ? 'block' : 'none';\n",
              "    })();\n",
              "  </script>\n",
              "</div>\n",
              "    </div>\n",
              "  </div>\n"
            ],
            "application/vnd.google.colaboratory.intrinsic+json": {
              "type": "dataframe",
              "summary": "{\n  \"name\": \"train_data\",\n  \"rows\": 10,\n  \"fields\": [\n    {\n      \"column\": \"target\",\n      \"properties\": {\n        \"dtype\": \"category\",\n        \"num_unique_values\": 2,\n        \"samples\": [\n          \"POSITIVE\",\n          \"NEGATIVE\"\n        ],\n        \"semantic_type\": \"\",\n        \"description\": \"\"\n      }\n    },\n    {\n      \"column\": \"ids\",\n      \"properties\": {\n        \"dtype\": \"number\",\n        \"std\": 236085177,\n        \"min\": 1573431827,\n        \"max\": 2251165180,\n        \"num_unique_values\": 10,\n        \"samples\": [\n          1794783481,\n          2246677619\n        ],\n        \"semantic_type\": \"\",\n        \"description\": \"\"\n      }\n    },\n    {\n      \"column\": \"date\",\n      \"properties\": {\n        \"dtype\": \"string\",\n        \"num_unique_values\": 10,\n        \"samples\": [\n          \"Thu May 14 06:33:05 PDT 2009\",\n          \"Fri Jun 19 17:57:41 PDT 2009\"\n        ],\n        \"semantic_type\": \"\",\n        \"description\": \"\"\n      }\n    },\n    {\n      \"column\": \"flag\",\n      \"properties\": {\n        \"dtype\": \"category\",\n        \"num_unique_values\": 1,\n        \"samples\": [\n          \"NO_QUERY\"\n        ],\n        \"semantic_type\": \"\",\n        \"description\": \"\"\n      }\n    },\n    {\n      \"column\": \"user\",\n      \"properties\": {\n        \"dtype\": \"string\",\n        \"num_unique_values\": 10,\n        \"samples\": [\n          \"PoynterPerve\"\n        ],\n        \"semantic_type\": \"\",\n        \"description\": \"\"\n      }\n    },\n    {\n      \"column\": \"text\",\n      \"properties\": {\n        \"dtype\": \"string\",\n        \"num_unique_values\": 10,\n        \"samples\": [\n          \"hate feel cant work hope feel better soon babe x\"\n        ],\n        \"semantic_type\": \"\",\n        \"description\": \"\"\n      }\n    }\n  ]\n}"
            }
          },
          "metadata": {},
          "execution_count": 10
        }
      ]
    },
    {
      "cell_type": "code",
      "source": [
        "from sklearn.model_selection import train_test_split\n",
        "processed_text = train_data['text']\n",
        "sentiment = train_data['target']\n",
        "X_train, X_test, y_train, y_test = train_test_split(processed_text, sentiment, test_size=0.05, random_state=0)"
      ],
      "metadata": {
        "id": "ZxOghUprpVNy"
      },
      "execution_count": null,
      "outputs": []
    },
    {
      "cell_type": "markdown",
      "source": [
        "### TF-IDF Vectorization"
      ],
      "metadata": {
        "id": "29tiwTq6rTz0"
      }
    },
    {
      "cell_type": "code",
      "source": [
        "vectoriser = TfidfVectorizer(ngram_range=(1,2), max_features=500000)\n",
        "vectoriser.fit(X_train)\n",
        "print(f'Vectoriser fitted.')"
      ],
      "metadata": {
        "id": "KblIHR0Rg2mR",
        "colab": {
          "base_uri": "https://localhost:8080/"
        },
        "outputId": "c988d5a7-7314-4004-a129-75cb62a18490"
      },
      "execution_count": null,
      "outputs": [
        {
          "output_type": "stream",
          "name": "stdout",
          "text": [
            "Vectoriser fitted.\n"
          ]
        }
      ]
    },
    {
      "cell_type": "code",
      "source": [
        "X_train = vectoriser.transform(X_train)\n",
        "X_test  = vectoriser.transform(X_test)"
      ],
      "metadata": {
        "id": "Fv_FWQCyg2pC"
      },
      "execution_count": null,
      "outputs": []
    },
    {
      "cell_type": "code",
      "source": [
        "def model_Evaluate(model):\n",
        "\n",
        "    # Predict values for Test dataset\n",
        "    y_pred = model.predict(X_test)\n",
        "\n",
        "    # Print the evaluation metrics for the dataset.\n",
        "    print(classification_report(y_test, y_pred))\n",
        "\n",
        "    # Compute and plot the Confusion matrix\n",
        "    cf_matrix = confusion_matrix(y_test, y_pred)\n",
        "\n",
        "    categories  = ['Negative','Positive']\n",
        "    group_names = ['True Neg','False Pos', 'False Neg','True Pos']\n",
        "    group_percentages = ['{0:.2%}'.format(value) for value in cf_matrix.flatten() / np.sum(cf_matrix)]\n",
        "\n",
        "    labels = [f'{v1}\\n{v2}' for v1, v2 in zip(group_names,group_percentages)]\n",
        "    labels = np.asarray(labels).reshape(2,2)\n",
        "\n",
        "    sns.heatmap(cf_matrix, annot = labels, cmap = 'Blues',fmt = '',\n",
        "                xticklabels = categories, yticklabels = categories)\n",
        "\n",
        "    plt.xlabel(\"Predicted values\", fontdict = {'size':14}, labelpad = 10)\n",
        "    plt.ylabel(\"Actual values\"   , fontdict = {'size':14}, labelpad = 10)\n",
        "    plt.title (\"Confusion Matrix\", fontdict = {'size':18}, pad = 20)"
      ],
      "metadata": {
        "id": "isxvYpARg2ru"
      },
      "execution_count": null,
      "outputs": []
    },
    {
      "cell_type": "markdown",
      "source": [
        "### Training models on the train_test_split data"
      ],
      "metadata": {
        "id": "sOeXj8lcuJV-"
      }
    },
    {
      "cell_type": "code",
      "source": [
        "LRmodel = LogisticRegression(C = 2, max_iter = 1000, n_jobs=-1)\n",
        "LRmodel.fit(X_train, y_train)\n",
        "model_Evaluate(LRmodel)"
      ],
      "metadata": {
        "colab": {
          "base_uri": "https://localhost:8080/",
          "height": 662
        },
        "id": "6lmz7J1Tg2uV",
        "outputId": "7b3737b9-6b24-4483-a11f-f842459d8aa1"
      },
      "execution_count": null,
      "outputs": [
        {
          "output_type": "stream",
          "name": "stdout",
          "text": [
            "              precision    recall  f1-score   support\n",
            "\n",
            "    NEGATIVE       0.81      0.78      0.79     39989\n",
            "    POSITIVE       0.79      0.81      0.80     40011\n",
            "\n",
            "    accuracy                           0.80     80000\n",
            "   macro avg       0.80      0.80      0.80     80000\n",
            "weighted avg       0.80      0.80      0.80     80000\n",
            "\n"
          ]
        },
        {
          "output_type": "display_data",
          "data": {
            "text/plain": [
              "<Figure size 640x480 with 2 Axes>"
            ],
            "image/png": "[encoded data removed]"
          },
          "metadata": {}
        }
      ]
    },
    {
      "cell_type": "code",
      "source": [
        "SVCmodel = LinearSVC()\n",
        "SVCmodel.fit(X_train, y_train)\n",
        "model_Evaluate(SVCmodel)"
      ],
      "metadata": {
        "colab": {
          "base_uri": "https://localhost:8080/",
          "height": 662
        },
        "id": "3khAsvKug2w0",
        "outputId": "af648950-0677-4ab3-cc36-f1c9fec21c7b"
      },
      "execution_count": null,
      "outputs": [
        {
          "output_type": "stream",
          "name": "stdout",
          "text": [
            "              precision    recall  f1-score   support\n",
            "\n",
            "    NEGATIVE       0.79      0.77      0.78     39989\n",
            "    POSITIVE       0.77      0.80      0.79     40011\n",
            "\n",
            "    accuracy                           0.78     80000\n",
            "   macro avg       0.78      0.78      0.78     80000\n",
            "weighted avg       0.78      0.78      0.78     80000\n",
            "\n"
          ]
        },
        {
          "output_type": "display_data",
          "data": {
            "text/plain": [
              "<Figure size 640x480 with 2 Axes>"
            ],
            "image/png": "[encoded data removed]"
          },
          "metadata": {}
        }
      ]
    },
    {
      "cell_type": "code",
      "source": [
        "BNBmodel = BernoulliNB(alpha = 2)\n",
        "BNBmodel.fit(X_train, y_train)\n",
        "model_Evaluate(BNBmodel)"
      ],
      "metadata": {
        "colab": {
          "base_uri": "https://localhost:8080/",
          "height": 662
        },
        "id": "s6ls0lhDquQ9",
        "outputId": "3b333967-cb65-44c7-e835-13711fe315ac"
      },
      "execution_count": null,
      "outputs": [
        {
          "output_type": "stream",
          "name": "stdout",
          "text": [
            "              precision    recall  f1-score   support\n",
            "\n",
            "    NEGATIVE       0.80      0.75      0.77     39989\n",
            "    POSITIVE       0.76      0.81      0.79     40011\n",
            "\n",
            "    accuracy                           0.78     80000\n",
            "   macro avg       0.78      0.78      0.78     80000\n",
            "weighted avg       0.78      0.78      0.78     80000\n",
            "\n"
          ]
        },
        {
          "output_type": "display_data",
          "data": {
            "text/plain": [
              "<Figure size 640x480 with 2 Axes>"
            ],
            "image/png": "[encoded data removed]"
          },
          "metadata": {}
        }
      ]
    },
    {
      "cell_type": "markdown",
      "source": [
        "### Validating trained models on test data which has neutral sentiment as well"
      ],
      "metadata": {
        "id": "PIn93hhzuPIV"
      }
    },
    {
      "cell_type": "code",
      "source": [
        "test_data['target'] = test_data['target'].map(decode_map)"
      ],
      "metadata": {
        "id": "5o1AEWXarHOT"
      },
      "execution_count": null,
      "outputs": []
    },
    {
      "cell_type": "code",
      "source": [
        "def model_test_evaluate(model, X_test, y_test):\n",
        "    # Predict values for Test dataset\n",
        "    y_pred = model.predict(X_test)\n",
        "\n",
        "    # Print the evaluation metrics for the dataset.\n",
        "    print(classification_report(y_test, y_pred))\n"
      ],
      "metadata": {
        "id": "9nueijZUrHRS"
      },
      "execution_count": null,
      "outputs": []
    },
    {
      "cell_type": "code",
      "source": [
        "X_test_vectorized = vectoriser.transform(test_data[\"text\"])\n",
        "model_test_evaluate(SVCmodel, X_test_vectorized, test_data['target'])"
      ],
      "metadata": {
        "colab": {
          "base_uri": "https://localhost:8080/"
        },
        "id": "I4eH5vxDrHUJ",
        "outputId": "44571a41-7318-41d1-dd06-6aebedb2a142"
      },
      "execution_count": null,
      "outputs": [
        {
          "output_type": "stream",
          "name": "stdout",
          "text": [
            "              precision    recall  f1-score   support\n",
            "\n",
            "    NEGATIVE       0.70      0.81      0.75       177\n",
            "     NEUTRAL       0.00      0.00      0.00       139\n",
            "    POSITIVE       0.52      0.84      0.64       182\n",
            "\n",
            "    accuracy                           0.59       498\n",
            "   macro avg       0.41      0.55      0.46       498\n",
            "weighted avg       0.44      0.59      0.50       498\n",
            "\n"
          ]
        },
        {
          "output_type": "stream",
          "name": "stderr",
          "text": [
            "/usr/local/lib/python3.10/dist-packages/sklearn/metrics/_classification.py:1344: UndefinedMetricWarning: Precision and F-score are ill-defined and being set to 0.0 in labels with no predicted samples. Use `zero_division` parameter to control this behavior.\n",
            "  _warn_prf(average, modifier, msg_start, len(result))\n",
            "/usr/local/lib/python3.10/dist-packages/sklearn/metrics/_classification.py:1344: UndefinedMetricWarning: Precision and F-score are ill-defined and being set to 0.0 in labels with no predicted samples. Use `zero_division` parameter to control this behavior.\n",
            "  _warn_prf(average, modifier, msg_start, len(result))\n",
            "/usr/local/lib/python3.10/dist-packages/sklearn/metrics/_classification.py:1344: UndefinedMetricWarning: Precision and F-score are ill-defined and being set to 0.0 in labels with no predicted samples. Use `zero_division` parameter to control this behavior.\n",
            "  _warn_prf(average, modifier, msg_start, len(result))\n"
          ]
        }
      ]
    },
    {
      "cell_type": "code",
      "source": [
        "model_test_evaluate(LRmodel, X_test_vectorized, test_data['target'])"
      ],
      "metadata": {
        "id": "TcFru4GCYJiC",
        "colab": {
          "base_uri": "https://localhost:8080/"
        },
        "outputId": "5bf6eb1c-03fd-4f60-c00e-8e34d4a3b081"
      },
      "execution_count": null,
      "outputs": [
        {
          "output_type": "stream",
          "name": "stdout",
          "text": [
            "              precision    recall  f1-score   support\n",
            "\n",
            "    NEGATIVE       0.72      0.82      0.77       177\n",
            "     NEUTRAL       0.00      0.00      0.00       139\n",
            "    POSITIVE       0.53      0.87      0.66       182\n",
            "\n",
            "    accuracy                           0.61       498\n",
            "   macro avg       0.42      0.56      0.48       498\n",
            "weighted avg       0.45      0.61      0.52       498\n",
            "\n"
          ]
        },
        {
          "output_type": "stream",
          "name": "stderr",
          "text": [
            "/usr/local/lib/python3.10/dist-packages/sklearn/metrics/_classification.py:1344: UndefinedMetricWarning: Precision and F-score are ill-defined and being set to 0.0 in labels with no predicted samples. Use `zero_division` parameter to control this behavior.\n",
            "  _warn_prf(average, modifier, msg_start, len(result))\n",
            "/usr/local/lib/python3.10/dist-packages/sklearn/metrics/_classification.py:1344: UndefinedMetricWarning: Precision and F-score are ill-defined and being set to 0.0 in labels with no predicted samples. Use `zero_division` parameter to control this behavior.\n",
            "  _warn_prf(average, modifier, msg_start, len(result))\n",
            "/usr/local/lib/python3.10/dist-packages/sklearn/metrics/_classification.py:1344: UndefinedMetricWarning: Precision and F-score are ill-defined and being set to 0.0 in labels with no predicted samples. Use `zero_division` parameter to control this behavior.\n",
            "  _warn_prf(average, modifier, msg_start, len(result))\n"
          ]
        }
      ]
    },
    {
      "cell_type": "code",
      "source": [
        "model_test_evaluate(BNBmodel, X_test_vectorized, test_data['target'])"
      ],
      "metadata": {
        "id": "RojaagNfYJk4",
        "colab": {
          "base_uri": "https://localhost:8080/"
        },
        "outputId": "80976aa4-27ba-4205-9678-3f5243bbd529"
      },
      "execution_count": null,
      "outputs": [
        {
          "output_type": "stream",
          "name": "stdout",
          "text": [
            "              precision    recall  f1-score   support\n",
            "\n",
            "    NEGATIVE       0.73      0.81      0.77       177\n",
            "     NEUTRAL       0.00      0.00      0.00       139\n",
            "    POSITIVE       0.51      0.85      0.64       182\n",
            "\n",
            "    accuracy                           0.60       498\n",
            "   macro avg       0.41      0.55      0.47       498\n",
            "weighted avg       0.45      0.60      0.51       498\n",
            "\n"
          ]
        },
        {
          "output_type": "stream",
          "name": "stderr",
          "text": [
            "/usr/local/lib/python3.10/dist-packages/sklearn/metrics/_classification.py:1344: UndefinedMetricWarning: Precision and F-score are ill-defined and being set to 0.0 in labels with no predicted samples. Use `zero_division` parameter to control this behavior.\n",
            "  _warn_prf(average, modifier, msg_start, len(result))\n",
            "/usr/local/lib/python3.10/dist-packages/sklearn/metrics/_classification.py:1344: UndefinedMetricWarning: Precision and F-score are ill-defined and being set to 0.0 in labels with no predicted samples. Use `zero_division` parameter to control this behavior.\n",
            "  _warn_prf(average, modifier, msg_start, len(result))\n",
            "/usr/local/lib/python3.10/dist-packages/sklearn/metrics/_classification.py:1344: UndefinedMetricWarning: Precision and F-score are ill-defined and being set to 0.0 in labels with no predicted samples. Use `zero_division` parameter to control this behavior.\n",
            "  _warn_prf(average, modifier, msg_start, len(result))\n"
          ]
        }
      ]
    },
    {
      "cell_type": "markdown",
      "source": [
        "Logistic Regression working better then the others"
      ],
      "metadata": {
        "id": "t2aF78LTwGxd"
      }
    },
    {
      "cell_type": "markdown",
      "source": [
        "### Saving Weights"
      ],
      "metadata": {
        "id": "VXpyXQLhvGF6"
      }
    },
    {
      "cell_type": "code",
      "source": [
        "joblib.dump(LRmodel, 'lr_model.pkl')\n",
        "joblib.dump(vectoriser, 'tfidf_vectorizer.pkl')"
      ],
      "metadata": {
        "colab": {
          "base_uri": "https://localhost:8080/"
        },
        "id": "i4mXk8OOvEbC",
        "outputId": "2fd08e7e-d7af-4fc7-def3-c265518b2a02"
      },
      "execution_count": null,
      "outputs": [
        {
          "output_type": "execute_result",
          "data": {
            "text/plain": [
              "['tfidf_vectorizer.pkl']"
            ]
          },
          "metadata": {},
          "execution_count": 62
        }
      ]
    },
    {
      "cell_type": "code",
      "source": [
        "loaded_model = joblib.load('lr_model.pkl')\n",
        "loaded_vectorizer = joblib.load('tfidf_vectorizer.pkl')"
      ],
      "metadata": {
        "id": "5Z1AnJegvNTk"
      },
      "execution_count": null,
      "outputs": []
    },
    {
      "cell_type": "code",
      "source": [
        "### Evaluate on test data\n",
        "model_test_evaluate(loaded_model, X_test_vectorized, test_data['target'])"
      ],
      "metadata": {
        "colab": {
          "base_uri": "https://localhost:8080/"
        },
        "id": "JWW8mAwZvjg9",
        "outputId": "6a3e91db-408d-487e-c9b1-9c64810eb18c"
      },
      "execution_count": null,
      "outputs": [
        {
          "output_type": "stream",
          "name": "stdout",
          "text": [
            "              precision    recall  f1-score   support\n",
            "\n",
            "    NEGATIVE       0.72      0.82      0.77       177\n",
            "     NEUTRAL       0.00      0.00      0.00       139\n",
            "    POSITIVE       0.53      0.87      0.66       182\n",
            "\n",
            "    accuracy                           0.61       498\n",
            "   macro avg       0.42      0.56      0.48       498\n",
            "weighted avg       0.45      0.61      0.52       498\n",
            "\n"
          ]
        },
        {
          "output_type": "stream",
          "name": "stderr",
          "text": [
            "/usr/local/lib/python3.10/dist-packages/sklearn/metrics/_classification.py:1344: UndefinedMetricWarning: Precision and F-score are ill-defined and being set to 0.0 in labels with no predicted samples. Use `zero_division` parameter to control this behavior.\n",
            "  _warn_prf(average, modifier, msg_start, len(result))\n",
            "/usr/local/lib/python3.10/dist-packages/sklearn/metrics/_classification.py:1344: UndefinedMetricWarning: Precision and F-score are ill-defined and being set to 0.0 in labels with no predicted samples. Use `zero_division` parameter to control this behavior.\n",
            "  _warn_prf(average, modifier, msg_start, len(result))\n",
            "/usr/local/lib/python3.10/dist-packages/sklearn/metrics/_classification.py:1344: UndefinedMetricWarning: Precision and F-score are ill-defined and being set to 0.0 in labels with no predicted samples. Use `zero_division` parameter to control this behavior.\n",
            "  _warn_prf(average, modifier, msg_start, len(result))\n"
          ]
        }
      ]
    },
    {
      "cell_type": "markdown",
      "source": [
        "### Running on a sentence"
      ],
      "metadata": {
        "id": "Q8pXYfPswOio"
      }
    },
    {
      "cell_type": "code",
      "source": [
        "def predict_sentiment(sentence):\n",
        "    # Preprocess the sentence\n",
        "    cleaned_sentence = preprocess_text(sentence)\n",
        "    # Vectorize the sentence\n",
        "    vectorized_sentence = loaded_vectorizer.transform([cleaned_sentence])\n",
        "    # Predict the sentiment\n",
        "    prediction = loaded_model.predict(vectorized_sentence)\n",
        "    return prediction[0]"
      ],
      "metadata": {
        "id": "eNSUPIS-uB8j"
      },
      "execution_count": null,
      "outputs": []
    },
    {
      "cell_type": "code",
      "source": [
        "example_sentence = \"I hate the rain.\"\n",
        "predicted_sentiment = predict_sentiment(example_sentence)\n",
        "print(f\"Predicted sentiment for '{example_sentence}': {predicted_sentiment}\")"
      ],
      "metadata": {
        "colab": {
          "base_uri": "https://localhost:8080/"
        },
        "id": "TQh0RraYu4C5",
        "outputId": "5315bed2-2d97-4c19-ebe1-e139d1b44e6a"
      },
      "execution_count": null,
      "outputs": [
        {
          "output_type": "stream",
          "name": "stdout",
          "text": [
            "Predicted sentiment for 'I hate the rain.': NEGATIVE\n"
          ]
        }
      ]
    },
    {
      "cell_type": "code",
      "source": [],
      "metadata": {
        "id": "BKhrjSo1wDKf"
      },
      "execution_count": null,
      "outputs": []
    }
  ]
}